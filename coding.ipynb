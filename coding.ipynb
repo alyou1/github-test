{
 "cells": [
  {
   "cell_type": "code",
   "execution_count": 1,
   "metadata": {},
   "outputs": [
    {
     "name": "stdout",
     "output_type": "stream",
     "text": [
      "Github is the best\n",
      "Github is the best\n",
      "Github is the best\n",
      "Github is the best\n",
      "Github is the best\n"
     ]
    }
   ],
   "source": [
    "for i in range(5):\n",
    "    print('Github is the best')"
   ]
  },
  {
   "cell_type": "code",
   "execution_count": 2,
   "metadata": {},
   "outputs": [
    {
     "name": "stdout",
     "output_type": "stream",
     "text": [
      "Github is really the best\n",
      "Github is really the best\n",
      "Github is really the best\n",
      "Github is really the best\n",
      "Github is really the best\n"
     ]
    }
   ],
   "source": [
    "for i in range(5):\n",
    "    print('Github is really the best')"
   ]
  }
 ],
 "metadata": {
  "kernelspec": {
   "display_name": "Python 3",
   "language": "python",
   "name": "python3"
  },
  "language_info": {
   "codemirror_mode": {
    "name": "ipython",
    "version": 3
   },
   "file_extension": ".py",
   "mimetype": "text/x-python",
   "name": "python",
   "nbconvert_exporter": "python",
   "pygments_lexer": "ipython3",
   "version": "3.10.6"
  }
 },
 "nbformat": 4,
 "nbformat_minor": 2
}
